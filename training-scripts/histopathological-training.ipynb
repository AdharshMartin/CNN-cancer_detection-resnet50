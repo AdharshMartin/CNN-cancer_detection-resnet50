{
 "cells": [
  {
   "cell_type": "code",
   "execution_count": 2,
   "id": "ddc91b09",
   "metadata": {},
   "outputs": [],
   "source": [
    "import tensorflow as tf\n",
    "from tensorflow.keras.models import Model\n",
    "from tensorflow.keras.layers import Dense, GlobalAveragePooling2D, Input\n",
    "from tensorflow.keras.applications import ResNet50\n",
    "from tensorflow.keras.optimizers import Adam\n",
    "from tensorflow.keras.mixed_precision import set_global_policy\n",
    "from tensorflow.keras.callbacks import ReduceLROnPlateau\n",
    "from sklearn.utils.class_weight import compute_class_weight\n",
    "from tensorflow.keras.callbacks import EarlyStopping\n",
    "\n",
    "import numpy as np\n"
   ]
  },
  {
   "cell_type": "code",
   "execution_count": 3,
   "id": "206469ee",
   "metadata": {},
   "outputs": [],
   "source": [
    "import os\n",
    "os.environ['TF_XLA_FLAGS'] = '--tf_xla_auto_jit=2'\n"
   ]
  },
  {
   "cell_type": "code",
   "execution_count": 4,
   "id": "26886f83",
   "metadata": {},
   "outputs": [
    {
     "name": "stdout",
     "output_type": "stream",
     "text": [
      "GPUs detected: [PhysicalDevice(name='/physical_device:GPU:0', device_type='GPU')]\n"
     ]
    },
    {
     "name": "stderr",
     "output_type": "stream",
     "text": [
      "2025-10-01 11:41:09.639092: I external/local_xla/xla/stream_executor/cuda/cuda_executor.cc:984] could not open file to read NUMA node: /sys/bus/pci/devices/0000:01:00.0/numa_node\n",
      "Your kernel may have been built without NUMA support.\n",
      "2025-10-01 11:41:09.683760: I external/local_xla/xla/stream_executor/cuda/cuda_executor.cc:984] could not open file to read NUMA node: /sys/bus/pci/devices/0000:01:00.0/numa_node\n",
      "Your kernel may have been built without NUMA support.\n",
      "2025-10-01 11:41:09.683797: I external/local_xla/xla/stream_executor/cuda/cuda_executor.cc:984] could not open file to read NUMA node: /sys/bus/pci/devices/0000:01:00.0/numa_node\n",
      "Your kernel may have been built without NUMA support.\n"
     ]
    }
   ],
   "source": [
    "gpus = tf.config.list_physical_devices('GPU')\n",
    "print(\"GPUs detected:\", gpus)"
   ]
  },
  {
   "cell_type": "code",
   "execution_count": 5,
   "id": "e9890d4b",
   "metadata": {},
   "outputs": [
    {
     "name": "stdout",
     "output_type": "stream",
     "text": [
      "✅ Mixed Precision disabled — using float32 for stability.\n"
     ]
    }
   ],
   "source": [
    "\n",
    "NUM_CLASSES = 9\n",
    "BATCH_SIZE = 8\n",
    "LEARNING_RATE = 1e-4\n",
    "\n",
    "try:\n",
    "    set_global_policy('float32')  # Use float32 to avoid CPU fallback issues\n",
    "    print(\"✅ Mixed Precision disabled — using float32 for stability.\")\n",
    "except Exception as e:\n",
    "    print(f\"⚠️ Precision setup failed: {e}\")\n"
   ]
  },
  {
   "cell_type": "code",
   "execution_count": 6,
   "id": "57a9bee7",
   "metadata": {},
   "outputs": [],
   "source": [
    "def build_model(num_classes):\n",
    "    inputs = Input(shape=(224, 224, 3))\n",
    "    base_model = ResNet50(weights='imagenet', include_top=False, input_tensor=inputs)\n",
    "    base_model.trainable = False  # Freeze base for transfer learning\n",
    "\n",
    "    x = base_model.output\n",
    "    x = GlobalAveragePooling2D()(x)\n",
    "    outputs = Dense(num_classes, activation='softmax', dtype='float32')(x)\n",
    "\n",
    "    model = Model(inputs, outputs)\n",
    "    return model"
   ]
  },
  {
   "cell_type": "code",
   "execution_count": 7,
   "id": "ffd74763",
   "metadata": {},
   "outputs": [
    {
     "name": "stderr",
     "output_type": "stream",
     "text": [
      "2025-10-01 11:41:09.740299: I external/local_xla/xla/stream_executor/cuda/cuda_executor.cc:984] could not open file to read NUMA node: /sys/bus/pci/devices/0000:01:00.0/numa_node\n",
      "Your kernel may have been built without NUMA support.\n",
      "2025-10-01 11:41:09.740383: I external/local_xla/xla/stream_executor/cuda/cuda_executor.cc:984] could not open file to read NUMA node: /sys/bus/pci/devices/0000:01:00.0/numa_node\n",
      "Your kernel may have been built without NUMA support.\n",
      "2025-10-01 11:41:09.740400: I external/local_xla/xla/stream_executor/cuda/cuda_executor.cc:984] could not open file to read NUMA node: /sys/bus/pci/devices/0000:01:00.0/numa_node\n",
      "Your kernel may have been built without NUMA support.\n",
      "2025-10-01 11:41:09.897394: I external/local_xla/xla/stream_executor/cuda/cuda_executor.cc:984] could not open file to read NUMA node: /sys/bus/pci/devices/0000:01:00.0/numa_node\n",
      "Your kernel may have been built without NUMA support.\n",
      "2025-10-01 11:41:09.897431: I external/local_xla/xla/stream_executor/cuda/cuda_executor.cc:984] could not open file to read NUMA node: /sys/bus/pci/devices/0000:01:00.0/numa_node\n",
      "Your kernel may have been built without NUMA support.\n",
      "2025-10-01 11:41:09.897437: I tensorflow/core/common_runtime/gpu/gpu_device.cc:2019] Could not identify NUMA node of platform GPU id 0, defaulting to 0.  Your kernel may not have been built with NUMA support.\n",
      "2025-10-01 11:41:09.897455: I external/local_xla/xla/stream_executor/cuda/cuda_executor.cc:984] could not open file to read NUMA node: /sys/bus/pci/devices/0000:01:00.0/numa_node\n",
      "Your kernel may have been built without NUMA support.\n",
      "2025-10-01 11:41:09.897869: I tensorflow/core/common_runtime/gpu/gpu_device.cc:1928] Created device /job:localhost/replica:0/task:0/device:GPU:0 with 3584 MB memory:  -> device: 0, name: NVIDIA GeForce RTX 3060 Laptop GPU, pci bus id: 0000:01:00.0, compute capability: 8.6\n"
     ]
    }
   ],
   "source": [
    "model = build_model(NUM_CLASSES)\n",
    "model.compile(\n",
    "    optimizer=Adam(learning_rate=LEARNING_RATE),\n",
    "    loss='categorical_crossentropy',\n",
    "    metrics=['accuracy']\n",
    ")"
   ]
  },
  {
   "cell_type": "code",
   "execution_count": null,
   "id": "b6611a7f",
   "metadata": {},
   "outputs": [
    {
     "name": "stdout",
     "output_type": "stream",
     "text": [
      "Found 39000 files belonging to 9 classes.\n",
      "Using 31200 files for training.\n",
      "Found 39000 files belonging to 9 classes.\n",
      "Using 7800 files for validation.\n"
     ]
    }
   ],
   "source": [
    "from tensorflow.keras.preprocessing import image_dataset_from_directory\n",
    "\n",
    "# Path to your dataset\n",
    "DATASET_PATH = \"./dataset\"\n",
    "\n",
    "# Load training and validation datasets\n",
    "train_ds = image_dataset_from_directory(\n",
    "    DATASET_PATH,\n",
    "    validation_split=0.2,\n",
    "    subset=\"training\",\n",
    "    seed=42,\n",
    "    image_size=(224, 224),\n",
    "    batch_size=BATCH_SIZE,\n",
    "    label_mode=\"categorical\"  # Ensures one-hot encoding\n",
    ")\n",
    "\n",
    "val_ds = image_dataset_from_directory(\n",
    "    DATASET_PATH,\n",
    "    validation_split=0.2,\n",
    "    subset=\"validation\",\n",
    "    seed=42,\n",
    "    image_size=(224, 224),\n",
    "    batch_size=BATCH_SIZE,\n",
    "    label_mode=\"categorical\"\n",
    ")\n",
    "     "
   ]
  },
  {
   "cell_type": "code",
   "execution_count": 10,
   "id": "dce3e01a",
   "metadata": {},
   "outputs": [
    {
     "data": {
      "text/plain": [
       "[PhysicalDevice(name='/physical_device:GPU:0', device_type='GPU')]"
      ]
     },
     "execution_count": 10,
     "metadata": {},
     "output_type": "execute_result"
    }
   ],
   "source": [
    "tf.config.list_physical_devices('GPU')\n"
   ]
  },
  {
   "cell_type": "code",
   "execution_count": null,
   "id": "23b6db76",
   "metadata": {},
   "outputs": [
    {
     "name": "stdout",
     "output_type": "stream",
     "text": [
      "Found 39000 files belonging to 9 classes.\n",
      "Using 31200 files for training.\n",
      "Class weights: {0: 1.0846891948268669, 1: 1.0853683990816114, 2: 1.0949673615498, 3: 1.0766045548654244, 4: 1.082656672912763, 5: 1.0949673615498, 6: 1.1613623673925182, 7: 0.5726241603347649, 8: 1.1490443044967407}\n"
     ]
    },
    {
     "name": "stderr",
     "output_type": "stream",
     "text": [
      "2025-10-01 11:44:06.400834: W tensorflow/core/framework/local_rendezvous.cc:404] Local rendezvous is aborting with status: OUT_OF_RANGE: End of sequence\n"
     ]
    }
   ],
   "source": [
    "\n",
    "\n",
    "# Load raw training dataset (no shuffle, no map, no prefetch)\n",
    "raw_train_ds = image_dataset_from_directory(\n",
    "    DATASET_PATH,\n",
    "    validation_split=0.2,\n",
    "    subset=\"training\",\n",
    "    seed=42,\n",
    "    image_size=(224, 224),\n",
    "    batch_size=BATCH_SIZE,\n",
    "    label_mode=\"categorical\"\n",
    ")\n",
    "\n",
    "# Extract labels batch-by-batch (memory-safe)\n",
    "class_indices = []\n",
    "for _, label_batch in raw_train_ds:\n",
    "    class_indices.extend(tf.argmax(label_batch, axis=1).numpy())\n",
    "\n",
    "# Compute class weights\n",
    "class_weights = compute_class_weight(\n",
    "    class_weight='balanced',\n",
    "    classes=np.unique(class_indices),\n",
    "    y=class_indices\n",
    ")\n",
    "\n",
    "class_weights_dict = dict(enumerate(class_weights))\n",
    "print(\"Class weights:\", class_weights_dict)\n"
   ]
  },
  {
   "cell_type": "code",
   "execution_count": null,
   "id": "3b9f5e77",
   "metadata": {},
   "outputs": [
    {
     "name": "stdout",
     "output_type": "stream",
     "text": [
      "Epoch 1/50\n"
     ]
    },
    {
     "name": "stderr",
     "output_type": "stream",
     "text": [
      "WARNING: All log messages before absl::InitializeLog() is called are written to STDERR\n",
      "I0000 00:00:1759319050.605825   18128 service.cc:145] XLA service 0x7a9e680050a0 initialized for platform CUDA (this does not guarantee that XLA will be used). Devices:\n",
      "I0000 00:00:1759319050.605889   18128 service.cc:153]   StreamExecutor device (0): NVIDIA GeForce RTX 3060 Laptop GPU, Compute Capability 8.6\n",
      "2025-10-01 11:44:10.710583: I external/local_xla/xla/stream_executor/cuda/cuda_dnn.cc:465] Loaded cuDNN version 8906\n",
      "I0000 00:00:1759319050.748318   18128 device_compiler.h:188] Compiled cluster using XLA!  This line is logged at most once for the lifetime of the process.\n",
      "2025-10-01 11:44:14.565459: I tensorflow/compiler/mlir/tensorflow/utils/dump_mlir_util.cc:268] disabling MLIR crash reproducer, set env var `MLIR_CRASH_REPRODUCER_DIRECTORY` to enable.\n",
      "WARNING: All log messages before absl::InitializeLog() is called are written to STDERR\n",
      "I0000 00:00:1759319056.059724   18219 asm_compiler.cc:369] ptxas warning : Registers are spilled to local memory in function 'triton_gemm_dot_5646', 528 bytes spill stores, 380 bytes spill loads\n",
      "\n"
     ]
    },
    {
     "name": "stdout",
     "output_type": "stream",
     "text": [
      "\u001b[1m3900/3900\u001b[0m \u001b[32m━━━━━━━━━━━━━━━━━━━━\u001b[0m\u001b[37m\u001b[0m \u001b[1m197s\u001b[0m 48ms/step - accuracy: 0.2651 - loss: 2.0620 - val_accuracy: 0.4054 - val_loss: 1.6621 - learning_rate: 1.0000e-04\n",
      "Epoch 2/50\n",
      "\u001b[1m3900/3900\u001b[0m \u001b[32m━━━━━━━━━━━━━━━━━━━━\u001b[0m\u001b[37m\u001b[0m \u001b[1m134s\u001b[0m 33ms/step - accuracy: 0.4012 - loss: 1.7502 - val_accuracy: 0.5047 - val_loss: 1.4996 - learning_rate: 1.0000e-04\n",
      "Epoch 3/50\n",
      "\u001b[1m3900/3900\u001b[0m \u001b[32m━━━━━━━━━━━━━━━━━━━━\u001b[0m\u001b[37m\u001b[0m \u001b[1m141s\u001b[0m 35ms/step - accuracy: 0.4568 - loss: 1.6146 - val_accuracy: 0.5258 - val_loss: 1.4282 - learning_rate: 1.0000e-04\n",
      "Epoch 4/50\n",
      "\u001b[1m3900/3900\u001b[0m \u001b[32m━━━━━━━━━━━━━━━━━━━━\u001b[0m\u001b[37m\u001b[0m \u001b[1m267s\u001b[0m 67ms/step - accuracy: 0.4840 - loss: 1.5376 - val_accuracy: 0.5774 - val_loss: 1.3178 - learning_rate: 1.0000e-04\n",
      "Epoch 5/50\n",
      "\u001b[1m3900/3900\u001b[0m \u001b[32m━━━━━━━━━━━━━━━━━━━━\u001b[0m\u001b[37m\u001b[0m \u001b[1m232s\u001b[0m 58ms/step - accuracy: 0.5108 - loss: 1.4644 - val_accuracy: 0.5924 - val_loss: 1.2645 - learning_rate: 1.0000e-04\n",
      "Epoch 6/50\n",
      "\u001b[1m3900/3900\u001b[0m \u001b[32m━━━━━━━━━━━━━━━━━━━━\u001b[0m\u001b[37m\u001b[0m \u001b[1m222s\u001b[0m 56ms/step - accuracy: 0.5318 - loss: 1.4145 - val_accuracy: 0.5909 - val_loss: 1.2488 - learning_rate: 1.0000e-04\n",
      "Epoch 7/50\n",
      "\u001b[1m3900/3900\u001b[0m \u001b[32m━━━━━━━━━━━━━━━━━━━━\u001b[0m\u001b[37m\u001b[0m \u001b[1m151s\u001b[0m 37ms/step - accuracy: 0.5469 - loss: 1.3618 - val_accuracy: 0.6203 - val_loss: 1.1896 - learning_rate: 1.0000e-04\n",
      "Epoch 8/50\n",
      "\u001b[1m3900/3900\u001b[0m \u001b[32m━━━━━━━━━━━━━━━━━━━━\u001b[0m\u001b[37m\u001b[0m \u001b[1m218s\u001b[0m 54ms/step - accuracy: 0.5593 - loss: 1.3238 - val_accuracy: 0.6355 - val_loss: 1.1402 - learning_rate: 1.0000e-04\n",
      "Epoch 9/50\n",
      "\u001b[1m3900/3900\u001b[0m \u001b[32m━━━━━━━━━━━━━━━━━━━━\u001b[0m\u001b[37m\u001b[0m \u001b[1m261s\u001b[0m 66ms/step - accuracy: 0.5749 - loss: 1.2947 - val_accuracy: 0.6413 - val_loss: 1.1257 - learning_rate: 1.0000e-04\n",
      "Epoch 10/50\n",
      "\u001b[1m3900/3900\u001b[0m \u001b[32m━━━━━━━━━━━━━━━━━━━━\u001b[0m\u001b[37m\u001b[0m \u001b[1m155s\u001b[0m 39ms/step - accuracy: 0.5765 - loss: 1.2649 - val_accuracy: 0.6537 - val_loss: 1.0848 - learning_rate: 1.0000e-04\n",
      "Epoch 11/50\n",
      "\u001b[1m3900/3900\u001b[0m \u001b[32m━━━━━━━━━━━━━━━━━━━━\u001b[0m\u001b[37m\u001b[0m \u001b[1m145s\u001b[0m 36ms/step - accuracy: 0.5824 - loss: 1.2400 - val_accuracy: 0.6651 - val_loss: 1.0627 - learning_rate: 1.0000e-04\n",
      "Epoch 12/50\n",
      "\u001b[1m3900/3900\u001b[0m \u001b[32m━━━━━━━━━━━━━━━━━━━━\u001b[0m\u001b[37m\u001b[0m \u001b[1m152s\u001b[0m 38ms/step - accuracy: 0.5980 - loss: 1.2144 - val_accuracy: 0.6715 - val_loss: 1.0464 - learning_rate: 1.0000e-04\n",
      "Epoch 13/50\n",
      "\u001b[1m3900/3900\u001b[0m \u001b[32m━━━━━━━━━━━━━━━━━━━━\u001b[0m\u001b[37m\u001b[0m \u001b[1m202s\u001b[0m 50ms/step - accuracy: 0.6010 - loss: 1.1958 - val_accuracy: 0.6760 - val_loss: 1.0190 - learning_rate: 1.0000e-04\n",
      "Epoch 14/50\n",
      "\u001b[1m3900/3900\u001b[0m \u001b[32m━━━━━━━━━━━━━━━━━━━━\u001b[0m\u001b[37m\u001b[0m \u001b[1m230s\u001b[0m 58ms/step - accuracy: 0.6166 - loss: 1.1649 - val_accuracy: 0.6814 - val_loss: 1.0122 - learning_rate: 1.0000e-04\n",
      "Epoch 15/50\n",
      "\u001b[1m3900/3900\u001b[0m \u001b[32m━━━━━━━━━━━━━━━━━━━━\u001b[0m\u001b[37m\u001b[0m \u001b[1m161s\u001b[0m 40ms/step - accuracy: 0.6148 - loss: 1.1590 - val_accuracy: 0.6764 - val_loss: 1.0068 - learning_rate: 1.0000e-04\n",
      "Epoch 16/50\n",
      "\u001b[1m3900/3900\u001b[0m \u001b[32m━━━━━━━━━━━━━━━━━━━━\u001b[0m\u001b[37m\u001b[0m \u001b[1m148s\u001b[0m 37ms/step - accuracy: 0.6163 - loss: 1.1430 - val_accuracy: 0.6927 - val_loss: 0.9767 - learning_rate: 1.0000e-04\n",
      "Epoch 17/50\n",
      "\u001b[1m3900/3900\u001b[0m \u001b[32m━━━━━━━━━━━━━━━━━━━━\u001b[0m\u001b[37m\u001b[0m \u001b[1m270s\u001b[0m 68ms/step - accuracy: 0.6254 - loss: 1.1238 - val_accuracy: 0.6936 - val_loss: 0.9711 - learning_rate: 1.0000e-04\n",
      "Epoch 18/50\n",
      "\u001b[1m3900/3900\u001b[0m \u001b[32m━━━━━━━━━━━━━━━━━━━━\u001b[0m\u001b[37m\u001b[0m \u001b[1m139s\u001b[0m 34ms/step - accuracy: 0.6303 - loss: 1.1064 - val_accuracy: 0.6913 - val_loss: 0.9608 - learning_rate: 1.0000e-04\n",
      "Epoch 19/50\n",
      "\u001b[1m3900/3900\u001b[0m \u001b[32m━━━━━━━━━━━━━━━━━━━━\u001b[0m\u001b[37m\u001b[0m \u001b[1m201s\u001b[0m 50ms/step - accuracy: 0.6285 - loss: 1.1059 - val_accuracy: 0.6986 - val_loss: 0.9429 - learning_rate: 1.0000e-04\n",
      "Epoch 20/50\n",
      "\u001b[1m3900/3900\u001b[0m \u001b[32m━━━━━━━━━━━━━━━━━━━━\u001b[0m\u001b[37m\u001b[0m \u001b[1m146s\u001b[0m 36ms/step - accuracy: 0.6389 - loss: 1.0803 - val_accuracy: 0.7115 - val_loss: 0.9154 - learning_rate: 1.0000e-04\n",
      "Epoch 21/50\n",
      "\u001b[1m3900/3900\u001b[0m \u001b[32m━━━━━━━━━━━━━━━━━━━━\u001b[0m\u001b[37m\u001b[0m \u001b[1m288s\u001b[0m 73ms/step - accuracy: 0.6438 - loss: 1.0688 - val_accuracy: 0.6964 - val_loss: 0.9249 - learning_rate: 1.0000e-04\n",
      "Epoch 22/50\n",
      "\u001b[1m3900/3900\u001b[0m \u001b[32m━━━━━━━━━━━━━━━━━━━━\u001b[0m\u001b[37m\u001b[0m \u001b[1m149s\u001b[0m 37ms/step - accuracy: 0.6470 - loss: 1.0592 - val_accuracy: 0.7129 - val_loss: 0.9067 - learning_rate: 1.0000e-04\n",
      "Epoch 23/50\n"
     ]
    },
    {
     "name": "stderr",
     "output_type": "stream",
     "text": [
      "2025-10-01 12:54:24.161890: I tensorflow/core/kernels/data/shuffle_dataset_op.cc:450] ShuffleDatasetV3:17: Filling up shuffle buffer (this may take a while): 249 of 256\n"
     ]
    },
    {
     "name": "stdout",
     "output_type": "stream",
     "text": [
      "\u001b[1m   1/3900\u001b[0m \u001b[37m━━━━━━━━━━━━━━━━━━━━\u001b[0m \u001b[1m11:29:35\u001b[0m 11s/step - accuracy: 0.5000 - loss: 1.3098"
     ]
    },
    {
     "name": "stderr",
     "output_type": "stream",
     "text": [
      "2025-10-01 12:54:24.554397: I tensorflow/core/kernels/data/shuffle_dataset_op.cc:480] Shuffle buffer filled.\n"
     ]
    },
    {
     "name": "stdout",
     "output_type": "stream",
     "text": [
      "\u001b[1m3900/3900\u001b[0m \u001b[32m━━━━━━━━━━━━━━━━━━━━\u001b[0m\u001b[37m\u001b[0m \u001b[1m223s\u001b[0m 54ms/step - accuracy: 0.6462 - loss: 1.0555 - val_accuracy: 0.7087 - val_loss: 0.9083 - learning_rate: 1.0000e-04\n",
      "Epoch 24/50\n",
      "\u001b[1m3900/3900\u001b[0m \u001b[32m━━━━━━━━━━━━━━━━━━━━\u001b[0m\u001b[37m\u001b[0m \u001b[1m172s\u001b[0m 43ms/step - accuracy: 0.6534 - loss: 1.0389 - val_accuracy: 0.7158 - val_loss: 0.8903 - learning_rate: 1.0000e-04\n",
      "Epoch 25/50\n",
      "\u001b[1m3900/3900\u001b[0m \u001b[32m━━━━━━━━━━━━━━━━━━━━\u001b[0m\u001b[37m\u001b[0m \u001b[1m165s\u001b[0m 41ms/step - accuracy: 0.6531 - loss: 1.0316 - val_accuracy: 0.7232 - val_loss: 0.8791 - learning_rate: 1.0000e-04\n",
      "Epoch 26/50\n",
      "\u001b[1m3900/3900\u001b[0m \u001b[32m━━━━━━━━━━━━━━━━━━━━\u001b[0m\u001b[37m\u001b[0m \u001b[1m173s\u001b[0m 43ms/step - accuracy: 0.6552 - loss: 1.0206 - val_accuracy: 0.7313 - val_loss: 0.8590 - learning_rate: 1.0000e-04\n",
      "Epoch 27/50\n",
      "\u001b[1m3900/3900\u001b[0m \u001b[32m━━━━━━━━━━━━━━━━━━━━\u001b[0m\u001b[37m\u001b[0m \u001b[1m148s\u001b[0m 37ms/step - accuracy: 0.6621 - loss: 1.0125 - val_accuracy: 0.7200 - val_loss: 0.8711 - learning_rate: 1.0000e-04\n",
      "Epoch 28/50\n",
      "\u001b[1m3900/3900\u001b[0m \u001b[32m━━━━━━━━━━━━━━━━━━━━\u001b[0m\u001b[37m\u001b[0m \u001b[1m205s\u001b[0m 51ms/step - accuracy: 0.6684 - loss: 0.9989 - val_accuracy: 0.7321 - val_loss: 0.8528 - learning_rate: 1.0000e-04\n",
      "Epoch 29/50\n",
      "\u001b[1m3900/3900\u001b[0m \u001b[32m━━━━━━━━━━━━━━━━━━━━\u001b[0m\u001b[37m\u001b[0m \u001b[1m270s\u001b[0m 68ms/step - accuracy: 0.6639 - loss: 1.0057 - val_accuracy: 0.7458 - val_loss: 0.8216 - learning_rate: 1.0000e-04\n",
      "Epoch 30/50\n",
      "\u001b[1m3900/3900\u001b[0m \u001b[32m━━━━━━━━━━━━━━━━━━━━\u001b[0m\u001b[37m\u001b[0m \u001b[1m257s\u001b[0m 65ms/step - accuracy: 0.6705 - loss: 0.9869 - val_accuracy: 0.7410 - val_loss: 0.8351 - learning_rate: 1.0000e-04\n",
      "Epoch 31/50\n",
      "\u001b[1m3899/3900\u001b[0m \u001b[32m━━━━━━━━━━━━━━━━━━━\u001b[0m\u001b[37m━\u001b[0m \u001b[1m0s\u001b[0m 28ms/step - accuracy: 0.6726 - loss: 0.9763\n",
      "Epoch 31: ReduceLROnPlateau reducing learning rate to 4.999999873689376e-05.\n",
      "\u001b[1m3900/3900\u001b[0m \u001b[32m━━━━━━━━━━━━━━━━━━━━\u001b[0m\u001b[37m\u001b[0m \u001b[1m138s\u001b[0m 34ms/step - accuracy: 0.6726 - loss: 0.9763 - val_accuracy: 0.7355 - val_loss: 0.8347 - learning_rate: 1.0000e-04\n",
      "Epoch 32/50\n",
      "\u001b[1m3900/3900\u001b[0m \u001b[32m━━━━━━━━━━━━━━━━━━━━\u001b[0m\u001b[37m\u001b[0m \u001b[1m227s\u001b[0m 57ms/step - accuracy: 0.6772 - loss: 0.9758 - val_accuracy: 0.7408 - val_loss: 0.8290 - learning_rate: 5.0000e-05\n"
     ]
    }
   ],
   "source": [
    "\n",
    "# Define early stopping\n",
    "early_exit = EarlyStopping(\n",
    "    monitor='val_loss',\n",
    "    patience=3,\n",
    "    restore_best_weights=True\n",
    ")\n",
    "lr_scheduler = ReduceLROnPlateau(\n",
    "    monitor='val_loss',\n",
    "    factor=0.5,\n",
    "    patience=2,\n",
    "    min_lr=1e-6,\n",
    "    verbose=1\n",
    ")\n",
    "# Train the model\n",
    "EPOCHS = 50  # Set high, early stopping will cut it short if needed\n",
    "\n",
    "try:\n",
    "    history = model.fit(\n",
    "        train_ds,\n",
    "        validation_data=val_ds,\n",
    "        epochs=EPOCHS,\n",
    "        class_weight=class_weights_dict,\n",
    "        callbacks=[early_exit, lr_scheduler]\n",
    "    )\n",
    "except Exception as e:\n",
    "    print(f\"⚠️ Training crashed: {e}\")\n",
    "\n"
   ]
  },
  {
   "cell_type": "code",
   "execution_count": 13,
   "id": "59620be2",
   "metadata": {},
   "outputs": [],
   "source": [
    "model.save(\"resnet50_cancer_model-version-2.keras\")"
   ]
  },
  {
   "cell_type": "code",
   "execution_count": 14,
   "id": "84973f51",
   "metadata": {},
   "outputs": [
    {
     "data": {
      "image/png": "[encoded data removed]",
      "text/plain": [
       "<Figure size 800x600 with 1 Axes>"
      ]
     },
     "metadata": {},
     "output_type": "display_data"
    }
   ],
   "source": [
    "import matplotlib.pyplot as plt\n",
    "\n",
    "# Extract accuracy values\n",
    "acc = history.history['accuracy']\n",
    "val_acc = history.history['val_accuracy']\n",
    "epochs_range = range(len(acc))\n",
    "\n",
    "# Plot\n",
    "plt.figure(figsize=(8, 6))\n",
    "plt.plot(epochs_range, acc, label='Training Accuracy', marker='o')\n",
    "plt.plot(epochs_range, val_acc, label='Validation Accuracy', marker='s')\n",
    "plt.title('Training vs Validation Accuracy')\n",
    "plt.xlabel('Epochs')\n",
    "plt.ylabel('Accuracy')\n",
    "plt.legend(loc='lower right')\n",
    "plt.grid(True)\n",
    "plt.tight_layout()\n",
    "plt.show()\n"
   ]
  }
 ],
 "metadata": {
  "kernelspec": {
   "display_name": "Python 3",
   "language": "python",
   "name": "python3"
  },
  "language_info": {
   "codemirror_mode": {
    "name": "ipython",
    "version": 3
   },
   "file_extension": ".py",
   "mimetype": "text/x-python",
   "name": "python",
   "nbconvert_exporter": "python",
   "pygments_lexer": "ipython3",
   "version": "3.11.0"
  }
 },
 "nbformat": 4,
 "nbformat_minor": 5
}
