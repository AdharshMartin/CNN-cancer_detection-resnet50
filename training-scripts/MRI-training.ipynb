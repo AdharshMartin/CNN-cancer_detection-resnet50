{
 "cells": [
  {
   "cell_type": "code",
   "execution_count": 19,
   "id": "ddc91b09",
   "metadata": {},
   "outputs": [],
   "source": [
    "import tensorflow as tf\n",
    "from tensorflow.keras.models import Model\n",
    "from tensorflow.keras.layers import Dense, GlobalAveragePooling2D, Input\n",
    "from tensorflow.keras.applications import ResNet50\n",
    "from tensorflow.keras.optimizers import Adam\n",
    "from tensorflow.keras.mixed_precision import set_global_policy\n",
    "from tensorflow.keras.callbacks import ReduceLROnPlateau\n",
    "from sklearn.utils.class_weight import compute_class_weight\n",
    "from tensorflow.keras.callbacks import EarlyStopping\n",
    "from tensorflow.keras import layers\n",
    "import numpy as np\n"
   ]
  },
  {
   "cell_type": "code",
   "execution_count": 20,
   "id": "206469ee",
   "metadata": {},
   "outputs": [],
   "source": [
    "import os\n",
    "os.environ['TF_XLA_FLAGS'] = '--tf_xla_auto_jit=2'\n"
   ]
  },
  {
   "cell_type": "code",
   "execution_count": 21,
   "id": "26886f83",
   "metadata": {},
   "outputs": [
    {
     "name": "stdout",
     "output_type": "stream",
     "text": [
      "GPUs detected: [PhysicalDevice(name='/physical_device:GPU:0', device_type='GPU')]\n"
     ]
    }
   ],
   "source": [
    "gpus = tf.config.list_physical_devices('GPU')\n",
    "print(\"GPUs detected:\", gpus)"
   ]
  },
  {
   "cell_type": "code",
   "execution_count": 22,
   "id": "e9890d4b",
   "metadata": {},
   "outputs": [
    {
     "name": "stdout",
     "output_type": "stream",
     "text": [
      "✅ Mixed Precision disabled — using float32 for stability.\n"
     ]
    }
   ],
   "source": [
    "\n",
    "NUM_CLASSES = 10\n",
    "BATCH_SIZE = 8\n",
    "LEARNING_RATE = 1e-4\n",
    "\n",
    "try:\n",
    "    set_global_policy('float32')  # Use float32 to avoid CPU fallback issues\n",
    "    print(\"✅ Mixed Precision disabled — using float32 for stability.\")\n",
    "except Exception as e:\n",
    "    print(f\"⚠️ Precision setup failed: {e}\")\n"
   ]
  },
  {
   "cell_type": "code",
   "execution_count": 23,
   "id": "57a9bee7",
   "metadata": {},
   "outputs": [],
   "source": [
    "def build_model(num_classes):\n",
    "    inputs = Input(shape=(224, 224, 3))\n",
    "    base_model = ResNet50(weights='imagenet', include_top=False, input_tensor=inputs)\n",
    "    base_model.trainable = False  # Freeze base for transfer learning\n",
    "\n",
    "    x = base_model.output\n",
    "    x = GlobalAveragePooling2D()(x)\n",
    "    outputs = Dense(num_classes, activation='softmax', dtype='float32')(x)\n",
    "\n",
    "    model = Model(inputs, outputs)\n",
    "    return model"
   ]
  },
  {
   "cell_type": "code",
   "execution_count": 24,
   "id": "ffd74763",
   "metadata": {},
   "outputs": [],
   "source": [
    "model = build_model(NUM_CLASSES)\n",
    "model.compile(\n",
    "    optimizer=Adam(learning_rate=LEARNING_RATE),\n",
    "    loss='categorical_crossentropy',\n",
    "    metrics=['accuracy']\n",
    ")"
   ]
  },
  {
   "cell_type": "code",
   "execution_count": 25,
   "id": "b6611a7f",
   "metadata": {},
   "outputs": [
    {
     "name": "stdout",
     "output_type": "stream",
     "text": [
      "Found 24877 files belonging to 10 classes.\n",
      "Using 19902 files for training.\n",
      "Found 24877 files belonging to 10 classes.\n",
      "Using 4975 files for validation.\n"
     ]
    }
   ],
   "source": [
    "from tensorflow.keras.preprocessing import image_dataset_from_directory\n",
    "\n",
    "# Path to your dataset\n",
    "DATASET_PATH = \"./dataset_mri\"\n",
    "\n",
    "# Load training and validation datasets\n",
    "train_ds = image_dataset_from_directory(\n",
    "    DATASET_PATH,\n",
    "    validation_split=0.2,\n",
    "    subset=\"training\",\n",
    "    seed=42,\n",
    "    image_size=(224, 224),\n",
    "    batch_size=BATCH_SIZE,\n",
    "    label_mode=\"categorical\"  # Ensures one-hot encoding\n",
    ")\n",
    "\n",
    "data_augmentation = tf.keras.Sequential([\n",
    "    layers.RandomFlip(\"horizontal_and_vertical\"),\n",
    "    layers.RandomRotation(0.1),\n",
    "    layers.RandomZoom(0.15),\n",
    "    layers.RandomContrast(0.15),\n",
    "    layers.RandomTranslation(height_factor=0.05, width_factor=0.05),\n",
    "])\n",
    "\n",
    "\n",
    "train_ds = train_ds.map(lambda x, y: (data_augmentation(x, training=True), y),\n",
    "                        num_parallel_calls=tf.data.AUTOTUNE)\n",
    "\n",
    "val_ds = image_dataset_from_directory(\n",
    "    DATASET_PATH,\n",
    "    validation_split=0.2,\n",
    "    subset=\"validation\",\n",
    "    seed=42,\n",
    "    image_size=(224, 224),\n",
    "    batch_size=BATCH_SIZE,\n",
    "    label_mode=\"categorical\"\n",
    ")\n",
    "     "
   ]
  },
  {
   "cell_type": "code",
   "execution_count": 26,
   "id": "dce3e01a",
   "metadata": {},
   "outputs": [
    {
     "data": {
      "text/plain": [
       "[PhysicalDevice(name='/physical_device:GPU:0', device_type='GPU')]"
      ]
     },
     "execution_count": 26,
     "metadata": {},
     "output_type": "execute_result"
    }
   ],
   "source": [
    "tf.config.list_physical_devices('GPU')\n"
   ]
  },
  {
   "cell_type": "code",
   "execution_count": 27,
   "id": "23b6db76",
   "metadata": {},
   "outputs": [
    {
     "name": "stdout",
     "output_type": "stream",
     "text": [
      "Found 24877 files belonging to 10 classes.\n",
      "Using 19902 files for training.\n",
      "Class weights: {0: 0.5590449438202247, 1: 0.5543732590529248, 2: 1.1470893371757924, 3: 0.6009057971014493, 4: 0.9504297994269341, 5: 0.704495575221239, 6: 2.6118110236220473, 7: 1.605, 8: 6.123692307692307, 9: 4.3359477124183}\n"
     ]
    },
    {
     "name": "stderr",
     "output_type": "stream",
     "text": [
      "2025-10-02 12:32:06.782858: W tensorflow/core/framework/local_rendezvous.cc:404] Local rendezvous is aborting with status: OUT_OF_RANGE: End of sequence\n"
     ]
    }
   ],
   "source": [
    "\n",
    "\n",
    "# Load raw training dataset (no shuffle, no map, no prefetch)\n",
    "raw_train_ds = image_dataset_from_directory(\n",
    "    DATASET_PATH,\n",
    "    validation_split=0.2,\n",
    "    subset=\"training\",\n",
    "    seed=42,\n",
    "    image_size=(224, 224),\n",
    "    batch_size=BATCH_SIZE,\n",
    "    label_mode=\"categorical\"\n",
    ")\n",
    "\n",
    "# Extract labels batch-by-batch (memory-safe)\n",
    "class_indices = []\n",
    "for _, label_batch in raw_train_ds:\n",
    "    class_indices.extend(tf.argmax(label_batch, axis=1).numpy())\n",
    "\n",
    "# Compute class weights\n",
    "class_weights = compute_class_weight(\n",
    "    class_weight='balanced',\n",
    "    classes=np.unique(class_indices),\n",
    "    y=class_indices\n",
    ")\n",
    "\n",
    "class_weights_dict = dict(enumerate(class_weights))\n",
    "print(\"Class weights:\", class_weights_dict)\n"
   ]
  },
  {
   "cell_type": "code",
   "execution_count": 28,
   "id": "3b9f5e77",
   "metadata": {},
   "outputs": [
    {
     "name": "stdout",
     "output_type": "stream",
     "text": [
      "Epoch 1/50\n"
     ]
    },
    {
     "name": "stderr",
     "output_type": "stream",
     "text": [
      "WARNING: All log messages before absl::InitializeLog() is called are written to STDERR\n",
      "I0000 00:00:1759408333.558266    2053 service.cc:145] XLA service 0x7c6f58009cf0 initialized for platform CUDA (this does not guarantee that XLA will be used). Devices:\n",
      "I0000 00:00:1759408333.558348    2053 service.cc:153]   StreamExecutor device (0): NVIDIA GeForce RTX 3060 Laptop GPU, Compute Capability 8.6\n",
      "2025-10-02 12:32:13.657902: I external/local_xla/xla/stream_executor/cuda/cuda_dnn.cc:465] Loaded cuDNN version 8906\n",
      "I0000 00:00:1759408333.699820    2053 device_compiler.h:188] Compiled cluster using XLA!  This line is logged at most once for the lifetime of the process.\n",
      "2025-10-02 12:32:14.269183: I tensorflow/compiler/mlir/tensorflow/utils/dump_mlir_util.cc:268] disabling MLIR crash reproducer, set env var `MLIR_CRASH_REPRODUCER_DIRECTORY` to enable.\n",
      "WARNING: All log messages before absl::InitializeLog() is called are written to STDERR\n",
      "I0000 00:00:1759408336.168987    2127 asm_compiler.cc:369] ptxas warning : Registers are spilled to local memory in function 'triton_gemm_dot_5646', 116 bytes spill stores, 116 bytes spill loads\n",
      "\n"
     ]
    },
    {
     "name": "stdout",
     "output_type": "stream",
     "text": [
      "\u001b[1m2487/2488\u001b[0m \u001b[32m━━━━━━━━━━━━━━━━━━━\u001b[0m\u001b[37m━\u001b[0m \u001b[1m0s\u001b[0m 70ms/step - accuracy: 0.5255 - loss: 1.3555"
     ]
    },
    {
     "name": "stderr",
     "output_type": "stream",
     "text": [
      "I0000 00:00:1759408410.335548    2371 asm_compiler.cc:369] ptxas warning : Registers are spilled to local memory in function 'triton_gemm_dot_5646', 116 bytes spill stores, 116 bytes spill loads\n",
      "\n"
     ]
    },
    {
     "name": "stdout",
     "output_type": "stream",
     "text": [
      "\u001b[1m2488/2488\u001b[0m \u001b[32m━━━━━━━━━━━━━━━━━━━━\u001b[0m\u001b[37m\u001b[0m \u001b[1m0s\u001b[0m 72ms/step - accuracy: 0.5255 - loss: 1.3553"
     ]
    },
    {
     "name": "stderr",
     "output_type": "stream",
     "text": [
      "I0000 00:00:1759408535.387425    2485 asm_compiler.cc:369] ptxas warning : Registers are spilled to local memory in function 'triton_gemm_dot_1707', 116 bytes spill stores, 116 bytes spill loads\n",
      "\n"
     ]
    },
    {
     "name": "stdout",
     "output_type": "stream",
     "text": [
      "\u001b[1m2488/2488\u001b[0m \u001b[32m━━━━━━━━━━━━━━━━━━━━\u001b[0m\u001b[37m\u001b[0m \u001b[1m211s\u001b[0m 80ms/step - accuracy: 0.5255 - loss: 1.3552 - val_accuracy: 0.6876 - val_loss: 0.8156 - learning_rate: 1.0000e-04\n",
      "Epoch 2/50\n",
      "\u001b[1m2488/2488\u001b[0m \u001b[32m━━━━━━━━━━━━━━━━━━━━\u001b[0m\u001b[37m\u001b[0m \u001b[1m194s\u001b[0m 78ms/step - accuracy: 0.7513 - loss: 0.6367 - val_accuracy: 0.7309 - val_loss: 0.7099 - learning_rate: 1.0000e-04\n",
      "Epoch 3/50\n",
      "\u001b[1m2488/2488\u001b[0m \u001b[32m━━━━━━━━━━━━━━━━━━━━\u001b[0m\u001b[37m\u001b[0m \u001b[1m172s\u001b[0m 111ms/step - accuracy: 0.7960 - loss: 0.5254 - val_accuracy: 0.7463 - val_loss: 0.6665 - learning_rate: 1.0000e-04\n",
      "Epoch 4/50\n",
      "\u001b[1m2488/2488\u001b[0m \u001b[32m━━━━━━━━━━━━━━━━━━━━\u001b[0m\u001b[37m\u001b[0m \u001b[1m83s\u001b[0m 33ms/step - accuracy: 0.8164 - loss: 0.4632 - val_accuracy: 0.7604 - val_loss: 0.6454 - learning_rate: 1.0000e-04\n",
      "Epoch 5/50\n",
      "\u001b[1m2488/2488\u001b[0m \u001b[32m━━━━━━━━━━━━━━━━━━━━\u001b[0m\u001b[37m\u001b[0m \u001b[1m121s\u001b[0m 48ms/step - accuracy: 0.8243 - loss: 0.4285 - val_accuracy: 0.7512 - val_loss: 0.6795 - learning_rate: 1.0000e-04\n",
      "Epoch 6/50\n",
      "\u001b[1m2488/2488\u001b[0m \u001b[32m━━━━━━━━━━━━━━━━━━━━\u001b[0m\u001b[37m\u001b[0m \u001b[1m119s\u001b[0m 48ms/step - accuracy: 0.8371 - loss: 0.4054 - val_accuracy: 0.7588 - val_loss: 0.6353 - learning_rate: 1.0000e-04\n",
      "Epoch 7/50\n",
      "\u001b[1m2488/2488\u001b[0m \u001b[32m━━━━━━━━━━━━━━━━━━━━\u001b[0m\u001b[37m\u001b[0m \u001b[1m212s\u001b[0m 85ms/step - accuracy: 0.8448 - loss: 0.3792 - val_accuracy: 0.7715 - val_loss: 0.6179 - learning_rate: 1.0000e-04\n",
      "Epoch 8/50\n",
      "\u001b[1m2488/2488\u001b[0m \u001b[32m━━━━━━━━━━━━━━━━━━━━\u001b[0m\u001b[37m\u001b[0m \u001b[1m90s\u001b[0m 36ms/step - accuracy: 0.8465 - loss: 0.3673 - val_accuracy: 0.7853 - val_loss: 0.5857 - learning_rate: 1.0000e-04\n",
      "Epoch 9/50\n",
      "\u001b[1m2488/2488\u001b[0m \u001b[32m━━━━━━━━━━━━━━━━━━━━\u001b[0m\u001b[37m\u001b[0m \u001b[1m122s\u001b[0m 49ms/step - accuracy: 0.8546 - loss: 0.3493 - val_accuracy: 0.7787 - val_loss: 0.5876 - learning_rate: 1.0000e-04\n",
      "Epoch 10/50\n",
      "\u001b[1m2488/2488\u001b[0m \u001b[32m━━━━━━━━━━━━━━━━━━━━\u001b[0m\u001b[37m\u001b[0m \u001b[1m139s\u001b[0m 56ms/step - accuracy: 0.8617 - loss: 0.3279 - val_accuracy: 0.7920 - val_loss: 0.5621 - learning_rate: 1.0000e-04\n",
      "Epoch 11/50\n",
      "\u001b[1m2488/2488\u001b[0m \u001b[32m━━━━━━━━━━━━━━━━━━━━\u001b[0m\u001b[37m\u001b[0m \u001b[1m111s\u001b[0m 44ms/step - accuracy: 0.8617 - loss: 0.3230 - val_accuracy: 0.7895 - val_loss: 0.5742 - learning_rate: 1.0000e-04\n",
      "Epoch 12/50\n",
      "\u001b[1m   5/2488\u001b[0m \u001b[37m━━━━━━━━━━━━━━━━━━━━\u001b[0m \u001b[1m1:24\u001b[0m 34ms/step - accuracy: 0.8317 - loss: 0.2811 "
     ]
    },
    {
     "name": "stderr",
     "output_type": "stream",
     "text": [
      "2025-10-02 12:58:19.468592: W tensorflow/core/kernels/data/prefetch_autotuner.cc:52] Prefetch autotuner tried to allocate 4817280 bytes after encountering the first element of size 4817280 bytes.This already causes the autotune ram budget to be exceeded. To stay within the ram budget, either increase the ram budget or reduce element size\n"
     ]
    },
    {
     "name": "stdout",
     "output_type": "stream",
     "text": [
      "\u001b[1m2487/2488\u001b[0m \u001b[32m━━━━━━━━━━━━━━━━━━━\u001b[0m\u001b[37m━\u001b[0m \u001b[1m0s\u001b[0m 32ms/step - accuracy: 0.8690 - loss: 0.3136\n",
      "Epoch 12: ReduceLROnPlateau reducing learning rate to 4.999999873689376e-05.\n",
      "\u001b[1m2488/2488\u001b[0m \u001b[32m━━━━━━━━━━━━━━━━━━━━\u001b[0m\u001b[37m\u001b[0m \u001b[1m96s\u001b[0m 38ms/step - accuracy: 0.8690 - loss: 0.3136 - val_accuracy: 0.7853 - val_loss: 0.5691 - learning_rate: 1.0000e-04\n",
      "Epoch 13/50\n",
      "\u001b[1m2488/2488\u001b[0m \u001b[32m━━━━━━━━━━━━━━━━━━━━\u001b[0m\u001b[37m\u001b[0m \u001b[1m152s\u001b[0m 61ms/step - accuracy: 0.8721 - loss: 0.3019 - val_accuracy: 0.8034 - val_loss: 0.5378 - learning_rate: 5.0000e-05\n",
      "Epoch 14/50\n",
      "\u001b[1m2488/2488\u001b[0m \u001b[32m━━━━━━━━━━━━━━━━━━━━\u001b[0m\u001b[37m\u001b[0m \u001b[1m185s\u001b[0m 74ms/step - accuracy: 0.8792 - loss: 0.2967 - val_accuracy: 0.8107 - val_loss: 0.5190 - learning_rate: 5.0000e-05\n",
      "Epoch 15/50\n",
      "\u001b[1m2488/2488\u001b[0m \u001b[32m━━━━━━━━━━━━━━━━━━━━\u001b[0m\u001b[37m\u001b[0m \u001b[1m126s\u001b[0m 51ms/step - accuracy: 0.8749 - loss: 0.2923 - val_accuracy: 0.8008 - val_loss: 0.5419 - learning_rate: 5.0000e-05\n",
      "Epoch 16/50\n",
      "\u001b[1m2487/2488\u001b[0m \u001b[32m━━━━━━━━━━━━━━━━━━━\u001b[0m\u001b[37m━\u001b[0m \u001b[1m0s\u001b[0m 38ms/step - accuracy: 0.8835 - loss: 0.2845\n",
      "Epoch 16: ReduceLROnPlateau reducing learning rate to 2.499999936844688e-05.\n",
      "\u001b[1m2488/2488\u001b[0m \u001b[32m━━━━━━━━━━━━━━━━━━━━\u001b[0m\u001b[37m\u001b[0m \u001b[1m112s\u001b[0m 45ms/step - accuracy: 0.8835 - loss: 0.2845 - val_accuracy: 0.8012 - val_loss: 0.5332 - learning_rate: 5.0000e-05\n",
      "Epoch 17/50\n",
      "\u001b[1m2488/2488\u001b[0m \u001b[32m━━━━━━━━━━━━━━━━━━━━\u001b[0m\u001b[37m\u001b[0m \u001b[1m107s\u001b[0m 43ms/step - accuracy: 0.8830 - loss: 0.2833 - val_accuracy: 0.8064 - val_loss: 0.5342 - learning_rate: 2.5000e-05\n"
     ]
    }
   ],
   "source": [
    "\n",
    "# Define early stopping\n",
    "early_exit = EarlyStopping(\n",
    "    monitor='val_loss',\n",
    "    patience=3,\n",
    "    restore_best_weights=True\n",
    ")\n",
    "lr_scheduler = ReduceLROnPlateau(\n",
    "    monitor='val_loss',\n",
    "    factor=0.5,\n",
    "    patience=2,\n",
    "    min_lr=1e-6,\n",
    "    verbose=1\n",
    ")\n",
    "# Train the model\n",
    "EPOCHS = 50  # Set high, early stopping will cut it short if needed\n",
    "\n",
    "try:\n",
    "    history = model.fit(\n",
    "        train_ds,\n",
    "        validation_data=val_ds,\n",
    "        epochs=EPOCHS,\n",
    "        class_weight=class_weights_dict,\n",
    "        callbacks=[early_exit, lr_scheduler]\n",
    "    )\n",
    "except Exception as e:\n",
    "    print(f\"⚠️ Training crashed: {e}\")\n",
    "\n"
   ]
  },
  {
   "cell_type": "code",
   "execution_count": 29,
   "id": "59620be2",
   "metadata": {},
   "outputs": [],
   "source": [
    "model.save(\"resnet50_cancer_model-MRI-version-1.keras\")"
   ]
  },
  {
   "cell_type": "code",
   "execution_count": 30,
   "id": "84973f51",
   "metadata": {},
   "outputs": [
    {
     "data": {
      "image/png": "[encoded data removed]",
      "text/plain": [
       "<Figure size 800x600 with 1 Axes>"
      ]
     },
     "metadata": {},
     "output_type": "display_data"
    }
   ],
   "source": [
    "import matplotlib.pyplot as plt\n",
    "\n",
    "# Extract accuracy values\n",
    "acc = history.history['accuracy']\n",
    "val_acc = history.history['val_accuracy']\n",
    "epochs_range = range(len(acc))\n",
    "\n",
    "# Plot\n",
    "plt.figure(figsize=(8, 6))\n",
    "plt.plot(epochs_range, acc, label='Training Accuracy', marker='o')\n",
    "plt.plot(epochs_range, val_acc, label='Validation Accuracy', marker='s')\n",
    "plt.title('Training vs Validation Accuracy')\n",
    "plt.xlabel('Epochs')\n",
    "plt.ylabel('Accuracy')\n",
    "plt.legend(loc='lower right')\n",
    "plt.grid(True)\n",
    "plt.tight_layout()\n",
    "plt.show()\n"
   ]
  }
 ],
 "metadata": {
  "kernelspec": {
   "display_name": "Python 3",
   "language": "python",
   "name": "python3"
  },
  "language_info": {
   "codemirror_mode": {
    "name": "ipython",
    "version": 3
   },
   "file_extension": ".py",
   "mimetype": "text/x-python",
   "name": "python",
   "nbconvert_exporter": "python",
   "pygments_lexer": "ipython3",
   "version": "3.11.0"
  }
 },
 "nbformat": 4,
 "nbformat_minor": 5
}
